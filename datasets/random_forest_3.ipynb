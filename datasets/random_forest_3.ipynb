{
 "cells": [
  {
   "cell_type": "code",
   "execution_count": 4,
   "metadata": {},
   "outputs": [
    {
     "name": "stdout",
     "output_type": "stream",
     "text": [
      "Mean Squared Error: 502019.0050725123\n",
      "R-squared: 0.8508173929701432\n",
      "Tomorrow's Predicted Bike Traffic: 1809.49\n"
     ]
    }
   ],
   "source": [
    "import pandas as pd\n",
    "from sklearn.model_selection import train_test_split\n",
    "from sklearn.ensemble import RandomForestRegressor\n",
    "from sklearn.metrics import mean_squared_error, r2_score\n",
    "\n",
    "# Load your dataset\n",
    "db = pd.read_csv('datasets/bike_munich/rad_tage.csv')\n",
    "\n",
    "# --- Data Cleaning ---\n",
    "# Drop rows with missing values in critical columns\n",
    "db = db.dropna(subset=['gesamt', 'min-temp', 'max-temp', 'niederschlag', 'sonnenstunden'])\n",
    "\n",
    "# Convert 'datum' to datetime\n",
    "db['datum'] = pd.to_datetime(db['datum'], format='%Y.%m.%d')\n",
    "\n",
    "# --- Feature Engineering ---\n",
    "# 'wochentag' (day of the week), 'monat' (month)\n",
    "db['wochentag'] = db['datum'].dt.dayofweek  # 0 = Monday\n",
    "db['monat'] = db['datum'].dt.month\n",
    "\n",
    "# One-hot encode the 'zaehlstelle' column (stations)\n",
    "db = pd.get_dummies(db, columns=['zaehlstelle'], drop_first=True)\n",
    "\n",
    "# --- Define Features and Target ---\n",
    "# Feature columns (including temp_diff, sun_to_cloud_ratio, etc.)\n",
    "feature_cols = ['min-temp', 'max-temp', 'niederschlag', 'sonnenstunden', 'wochentag', 'monat'] + \\\n",
    "               [col for col in db.columns if col.startswith('zaehlstelle_')]  # Add the one-hot encoded station columns\n",
    "\n",
    "X = db[feature_cols]\n",
    "y = db['gesamt']\n",
    "\n",
    "# --- Train-Test Split ---\n",
    "X_train, X_test, y_train, y_test = train_test_split(X, y, test_size=0.2, random_state=42)\n",
    "\n",
    "# --- Train RandomForestRegressor ---\n",
    "model = RandomForestRegressor(n_estimators=100, random_state=42)\n",
    "model.fit(X_train, y_train)\n",
    "\n",
    "# --- Predictions ---\n",
    "y_pred = model.predict(X_test)\n",
    "\n",
    "# --- Evaluate the Model ---\n",
    "mse = mean_squared_error(y_test, y_pred)\n",
    "r2 = r2_score(y_test, y_pred)\n",
    "\n",
    "print(f\"Mean Squared Error: {mse}\")\n",
    "print(f\"R-squared: {r2}\")\n",
    "\n",
    "# --- Predict for Tomorrow ---\n",
    "# Example for tomorrow's features\n",
    "tomorrow = pd.DataFrame([{\n",
    "    'min-temp': 8.5,\n",
    "    'max-temp': 17.2,\n",
    "    'niederschlag': 0.1,\n",
    "    'sonnenstunden': 6.0,\n",
    "    'wochentag': 2,  # Wednesday\n",
    "    'monat': 4,\n",
    "    **{col: 0 for col in X.columns if col.startswith('zaehlstelle_')}  # Set all station columns to 0\n",
    "}])\n",
    "\n",
    "# Optionally, set one station manually, for example, 'zaehlstelle_Hirsch'\n",
    "tomorrow['zaehlstelle_Hirsch'] = 1  # If you want to predict for this station\n",
    "\n",
    "# Make prediction\n",
    "prediction = model.predict(tomorrow)\n",
    "print(f\"Tomorrow's Predicted Bike Traffic: {prediction[0]}\")\n"
   ]
  },
  {
   "cell_type": "code",
   "execution_count": null,
   "metadata": {},
   "outputs": [],
   "source": []
  }
 ],
 "metadata": {
  "kernelspec": {
   "display_name": "Python 3",
   "language": "python",
   "name": "python3"
  },
  "language_info": {
   "codemirror_mode": {
    "name": "ipython",
    "version": 3
   },
   "file_extension": ".py",
   "mimetype": "text/x-python",
   "name": "python",
   "nbconvert_exporter": "python",
   "pygments_lexer": "ipython3",
   "version": "3.11.11"
  }
 },
 "nbformat": 4,
 "nbformat_minor": 2
}
