{
 "cells": [
  {
   "cell_type": "code",
   "execution_count": 1,
   "metadata": {},
   "outputs": [
    {
     "name": "stdout",
     "output_type": "stream",
     "text": [
      "Mean Squared Error: 2615114.780194208\n",
      "R-squared: 0.22287874233898397\n",
      "Tomorrow's Predicted Bike Traffic: [2497.28939581]\n"
     ]
    }
   ],
   "source": [
    "from sklearn.ensemble import GradientBoostingRegressor\n",
    "from sklearn.metrics import mean_squared_error, r2_score\n",
    "from sklearn.model_selection import train_test_split\n",
    "import pandas as pd\n",
    "\n",
    "db = pd.read_csv('../datasets/bike_munich/rad_tage.csv')\n",
    "\n",
    "# Assuming you already have your cleaned DataFrame `db` ready\n",
    "# Filter only needed columns and drop rows with missing values\n",
    "db = db.dropna(subset=['gesamt', 'min-temp', 'max-temp', 'niederschlag', 'sonnenstunden'])\n",
    "\n",
    "# Features and target\n",
    "X = db[['min-temp', 'max-temp', 'niederschlag', 'sonnenstunden']]\n",
    "y = db['gesamt']\n",
    "\n",
    "# Train/Test split\n",
    "X_train, X_test, y_train, y_test = train_test_split(X, y, test_size=0.2, random_state=42)\n",
    "\n",
    "# Train Gradient Boosting model\n",
    "gbr = GradientBoostingRegressor(random_state=42)\n",
    "gbr.fit(X_train, y_train)\n",
    "\n",
    "# Predict on test set\n",
    "y_pred = gbr.predict(X_test)\n",
    "\n",
    "# Evaluation\n",
    "mse = mean_squared_error(y_test, y_pred)\n",
    "r2 = r2_score(y_test, y_pred)\n",
    "print(\"Mean Squared Error:\", mse)\n",
    "print(\"R-squared:\", r2)\n",
    "\n",
    "# Predict for tomorrow’s weather\n",
    "tomorrow = pd.DataFrame([[8.5, 17.2, 0.1, 6.0]], columns=['min-temp', 'max-temp', 'niederschlag', 'sonnenstunden'])\n",
    "prediction = gbr.predict(tomorrow)\n",
    "print(\"Tomorrow's Predicted Bike Traffic:\", prediction)\n"
   ]
  },
  {
   "cell_type": "code",
   "execution_count": null,
   "metadata": {},
   "outputs": [],
   "source": []
  }
 ],
 "metadata": {
  "kernelspec": {
   "display_name": "rosh-KhuuZkEa",
   "language": "python",
   "name": "python3"
  },
  "language_info": {
   "codemirror_mode": {
    "name": "ipython",
    "version": 3
   },
   "file_extension": ".py",
   "mimetype": "text/x-python",
   "name": "python",
   "nbconvert_exporter": "python",
   "pygments_lexer": "ipython3",
   "version": "3.11.11"
  }
 },
 "nbformat": 4,
 "nbformat_minor": 2
}
