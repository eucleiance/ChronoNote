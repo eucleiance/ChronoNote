{
 "cells": [
  {
   "cell_type": "code",
   "execution_count": 2,
   "metadata": {},
   "outputs": [
    {
     "name": "stdout",
     "output_type": "stream",
     "text": [
      "Mean Squared Error: 2512133.638102645\n",
      "R-squared: 0.253481159970389\n",
      "Tomorrow's Predicted Bike Traffic: [2473.58468007]\n"
     ]
    }
   ],
   "source": [
    "import pandas as pd\n",
    "from sklearn.linear_model import LinearRegression\n",
    "from sklearn.model_selection import train_test_split\n",
    "from sklearn.metrics import mean_squared_error, r2_score\n",
    "\n",
    "# Load dataset (replace 'db2' with the actual variable name if needed)\n",
    "# Assuming 'db2' is your DataFrame\n",
    "db2 = pd.read_csv('../datasets/bike_munich/rad_tage.csv')\n",
    "\n",
    "\n",
    "# Clean data: Drop rows with NaN in relevant columns\n",
    "db2 = db2.dropna(subset=['gesamt', 'min-temp', 'max-temp', 'niederschlag', 'sonnenstunden'])\n",
    "\n",
    "# Convert 'datum' and 'uhrzeit_start' to datetime\n",
    "db2['datum'] = pd.to_datetime(db2['datum'], format='%Y.%m.%d')\n",
    "db2['uhrzeit_start'] = pd.to_datetime(db2['uhrzeit_start'], format='%H:%M')\n",
    "\n",
    "# Extract time-based features from 'datum' (optional but useful)\n",
    "db2['day_of_week'] = db2['datum'].dt.dayofweek  # Monday=0, Sunday=6\n",
    "db2['month'] = db2['datum'].dt.month\n",
    "\n",
    "# Prepare the input features and target variable\n",
    "X = db2[['min-temp', 'max-temp', 'niederschlag', 'sonnenstunden', 'day_of_week', 'month']]  # Add time features\n",
    "y = db2['gesamt']  # Output: total bike traffic\n",
    "\n",
    "# Split the data into training and testing sets\n",
    "X_train, X_test, y_train, y_test = train_test_split(X, y, test_size=0.2, random_state=42)\n",
    "\n",
    "# Train the linear regression model\n",
    "model = LinearRegression()\n",
    "model.fit(X_train, y_train)\n",
    "\n",
    "# Predict on the test set\n",
    "y_pred = model.predict(X_test)\n",
    "\n",
    "# Evaluate the model\n",
    "mse = mean_squared_error(y_test, y_pred)\n",
    "r2 = r2_score(y_test, y_pred)\n",
    "\n",
    "print(\"Mean Squared Error:\", mse)\n",
    "print(\"R-squared:\", r2)\n",
    "\n",
    "# Predict for tomorrow's data\n",
    "tomorrow = pd.DataFrame([[8.5, 17.2, 0.1, 6.0, 1, 4]], columns=['min-temp', 'max-temp', 'niederschlag', 'sonnenstunden', 'day_of_week', 'month'])\n",
    "prediction = model.predict(tomorrow)\n",
    "\n",
    "print(\"Tomorrow's Predicted Bike Traffic:\", prediction)\n"
   ]
  },
  {
   "cell_type": "code",
   "execution_count": null,
   "metadata": {},
   "outputs": [],
   "source": []
  }
 ],
 "metadata": {
  "kernelspec": {
   "display_name": "rosh-KhuuZkEa",
   "language": "python",
   "name": "python3"
  },
  "language_info": {
   "codemirror_mode": {
    "name": "ipython",
    "version": 3
   },
   "file_extension": ".py",
   "mimetype": "text/x-python",
   "name": "python",
   "nbconvert_exporter": "python",
   "pygments_lexer": "ipython3",
   "version": "3.11.11"
  }
 },
 "nbformat": 4,
 "nbformat_minor": 2
}
